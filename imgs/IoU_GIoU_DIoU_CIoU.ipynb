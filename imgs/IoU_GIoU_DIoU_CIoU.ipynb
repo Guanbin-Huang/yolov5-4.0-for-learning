{
 "cells": [
  {
   "cell_type": "code",
   "execution_count": 9,
   "metadata": {},
   "outputs": [],
   "source": [
    "#我的bbox\n",
    "import math\n",
    "\n",
    "def euclidean_distance(p1, p2):\n",
    "    '''\n",
    "    计算两个点的欧式距离\n",
    "    '''\n",
    "    y1,x1 = p1\n",
    "    y2,x2 = p2\n",
    "    return math.sqrt((x1-x2)**2 + (y1-y2)**2)\n",
    "\n",
    "#我的bbox\n",
    "import math\n",
    "class BBox:\n",
    "    '''\n",
    "    业界规范：BBox[x,y,r,b] xy:左上角xy坐标  rb:右下角xy坐标\n",
    "    '''\n",
    "    def __init__(self, x, y, r, b, score=0):\n",
    "\n",
    "        self.x, self.y, self.r, self.b, self.score = x, y,r,b ,score\n",
    "        self.height = b - y +1\n",
    "        self.width = r - x  +1\n",
    "\n",
    "    def __repr__(self):\n",
    "        return f\"{self.x:.2f}, {self.y:.2f}, {self.r:.2f}, {self.b:.2f}, {self.score:.2f}\"\n",
    "\n",
    "\n",
    "    def __and__(self, other):\n",
    "        '''\n",
    "        计算box和other的交集\n",
    "        '''\n",
    "        x_max = min(self.r, other.r)\n",
    "        y_max = min(self.b, other.b)\n",
    "        x_min = max(self.x, other.x)\n",
    "        y_min = max(self.y, other.y)\n",
    "        \n",
    "        cross_box  = BBox(x_min, y_min, x_max, y_max) #!!!\n",
    "        if cross_box.width<= 0 or cross_box.height <= 0:\n",
    "            return 0\n",
    "        \n",
    "        return cross_box.area\n",
    "\n",
    "    def __or__(self, other):\n",
    "        '''\n",
    "        计算box和other的并集\n",
    "        '''\n",
    "        cross = self & other\n",
    "        union = self.area + other.area - cross\n",
    "\n",
    "        return union\n",
    "\n",
    "    def __xor__(self, other):\n",
    "        cross = self & other\n",
    "        union = self | other\n",
    "        return cross / (union + 1e-6)\n",
    "\n",
    "    def boundof(self, other):\n",
    "        '''\n",
    "        计算box和other的边缘外包框，使得2个box都在框内的最小矩形\n",
    "        '''\n",
    "        x_min = min(self.x, other.x)\n",
    "        y_min = min(self.y, other.y)\n",
    "        x_max = max(self.r, other.r)\n",
    "        y_max = max(self.b, other.b)\n",
    "\n",
    "        return BBox(x_min, y_min, x_max, y_max)\n",
    "\n",
    "    def center_dist(self,other):\n",
    "        '''\n",
    "        计算两个box的中心点距离\n",
    "        '''\n",
    "        return euclidean_distance(self.center,other.center)\n",
    "    \n",
    "    def bound_diagonal_dist(self,other):\n",
    "        '''\n",
    "        计算两个box的bound的对角线距离\n",
    "        '''\n",
    "        p1 = min(self.x,other.x),min(self.y,other.y)\n",
    "        p2 = max(self.r,other.r),max(self.b,other.b)\n",
    "        return euclidean_distance(p1,p2)\n",
    "\n",
    "    @property\n",
    "    def location(self):\n",
    "        return self.x ,self.y, self.r, self.b\n",
    "    \n",
    "    @property\n",
    "    def area(self):\n",
    "        return self.height * self.width\n",
    "    \n",
    "    @property\n",
    "    def center(self):\n",
    "        return [(self.x + self.r)/2,(self.y+self.b)/2]\n"
   ]
  },
  {
   "cell_type": "code",
   "execution_count": 10,
   "metadata": {},
   "outputs": [
    {
     "name": "stdout",
     "output_type": "stream",
     "text": [
      "10.00, 10.00, 100.00, 200.00, 0.00\n"
     ]
    }
   ],
   "source": [
    "box = BBox(10, 10, 100, 200)\n",
    "print(box)"
   ]
  },
  {
   "cell_type": "code",
   "execution_count": 11,
   "metadata": {},
   "outputs": [],
   "source": [
    "def IoU(box1: BBox, box2: BBox):\n",
    "    return box1 ^ box2"
   ]
  },
  {
   "cell_type": "markdown",
   "metadata": {},
   "source": [
    "实现GIoU函数，计算giou = GIoU(box1, box2)，并打印giou\n",
    "- ![title](https://www.zhihu.com/equation?tex=GIoU+%3D+IoU+-+%5Cfrac%7B%5Cleft%7C++A_%7Bc%7D+-+U+%5Cright%7C%7D%7B%5Cleft%7C+A_%7Bc%7D+%5Cright%7C%7D)"
   ]
  },
  {
   "cell_type": "code",
   "execution_count": 12,
   "metadata": {},
   "outputs": [],
   "source": [
    "def GIoU(box1: BBox, box2: BBox):\n",
    "\n",
    "    Ac = box1.boundof(box2).area\n",
    "    union = box1 | box2\n",
    "    IoU_value = IoU(box1, box2)\n",
    "\n",
    "    return IoU_value - abs(Ac - union) / abs(Ac)"
   ]
  },
  {
   "cell_type": "markdown",
   "metadata": {},
   "source": [
    "实现DIoU函数，计算diou = DIoU(box1, box2)，并打印diou\n",
    " - ![title](https://www.zhihu.com/equation?tex=L_%7BDIoU%7D+%3D+1-+IoU+%2B%5Cfrac%7B%5Crho%5E%7B2%7D%5Cleft%28+b%2Cb%5E%7Bgt%7D+%5Cright%29%7D%7Bc%5E%7B2%7D%7D+)"
   ]
  },
  {
   "cell_type": "code",
   "execution_count": 13,
   "metadata": {},
   "outputs": [],
   "source": [
    "def DIoU(box1: BBox, box2: BBox):\n",
    "    d = box1.center_dist(box2)\n",
    "    c = box1.bound_diagonal_dist(box2)\n",
    "    return IoU(box1, box2) - d**2 / c**2"
   ]
  },
  {
   "cell_type": "markdown",
   "metadata": {},
   "source": [
    "实现CIoU函数，计算ciou = CIoU(box1, box2)，并打印ciou\n",
    " - ![title](https://www.zhihu.com/equation?tex=L_%7BCIoU%7D+%3D+1-+IoU+%2B%5Cfrac%7B%5Crho%5E%7B2%7D%5Cleft%28+b%2Cb%5E%7Bgt%7D+%5Cright%29%7D%7Bc%5E%7B2%7D%7D+++%2B+%5Calpha%5Cupsilon)  \n",
    " - ![title](https://www.zhihu.com/equation?tex=%5Calpha%3D++%5Cfrac%7B%5Cupsilon%7D%7B%5Cleft%28+1-IoU+%5Cright%29%2B%5Cupsilon%7D+)   \n",
    " - ![title](https://www.zhihu.com/equation?tex=%5Cupsilon%3D%5Cfrac%7B4%7D%7B%5Cpi%5E%7B2%7D%7D%5Cleft%28+arctan%5Cfrac%7Bw%5E%7Bgt%7D%7D%7Bh%5E%7Bgt%7D%7D+-+arctan%5Cfrac%7Bw%7D%7Bh%7D+%5Cright%29%5E%7B2%7D)"
   ]
  },
  {
   "cell_type": "code",
   "execution_count": 14,
   "metadata": {},
   "outputs": [],
   "source": [
    "def CIoU(box1: BBox, box2: BBox):\n",
    "\n",
    "    v = 4 / math.pi**2 * (math.atan(box1.width / box1.height) -\n",
    "                          math.atan(box2.width / box2.height))**2\n",
    "    alpha = v / (1 - IoU(box1, box2) + v)\n",
    "    return DIoU(box1, box2) - alpha * v"
   ]
  },
  {
   "cell_type": "code",
   "execution_count": 15,
   "metadata": {},
   "outputs": [
    {
     "name": "stdout",
     "output_type": "stream",
     "text": [
      "0.16778184645181238 0.24102682779151774 0.24057637895114647\n"
     ]
    }
   ],
   "source": [
    "box1 = BBox(*[10, 10, 100, 200])\n",
    "box2 = BBox(*[50, 50, 150, 180])\n",
    "# box1 = BBox(*[0,0,2,2])\n",
    "# box2 = BBox(*[1,1,3,3])\n",
    "\n",
    "\n",
    "print(GIoU(box1,box2),\n",
    "DIoU(box1,box2),\n",
    "CIoU(box1,box2))\n",
    "\n"
   ]
  },
  {
   "cell_type": "markdown",
   "metadata": {},
   "source": []
  }
 ],
 "metadata": {
  "interpreter": {
   "hash": "61a57a4b5406d2de388e2f91097d4e4bcd7d5f4a46f53a795aa28a02eed27fc5"
  },
  "kernelspec": {
   "display_name": "Python 3.8.8 64-bit ('base': conda)",
   "name": "python3"
  },
  "language_info": {
   "codemirror_mode": {
    "name": "ipython",
    "version": 3
   },
   "file_extension": ".py",
   "mimetype": "text/x-python",
   "name": "python",
   "nbconvert_exporter": "python",
   "pygments_lexer": "ipython3",
   "version": "3.8.8"
  },
  "toc": {
   "base_numbering": 1,
   "nav_menu": {},
   "number_sections": true,
   "sideBar": true,
   "skip_h1_title": false,
   "title_cell": "Table of Contents",
   "title_sidebar": "Contents",
   "toc_cell": false,
   "toc_position": {},
   "toc_section_display": true,
   "toc_window_display": false
  },
  "varInspector": {
   "cols": {
    "lenName": 16,
    "lenType": 16,
    "lenVar": 40
   },
   "kernels_config": {
    "python": {
     "delete_cmd_postfix": "",
     "delete_cmd_prefix": "del ",
     "library": "var_list.py",
     "varRefreshCmd": "print(var_dic_list())"
    },
    "r": {
     "delete_cmd_postfix": ") ",
     "delete_cmd_prefix": "rm(",
     "library": "var_list.r",
     "varRefreshCmd": "cat(var_dic_list()) "
    }
   },
   "types_to_exclude": [
    "module",
    "function",
    "builtin_function_or_method",
    "instance",
    "_Feature"
   ],
   "window_display": false
  }
 },
 "nbformat": 4,
 "nbformat_minor": 4
}
